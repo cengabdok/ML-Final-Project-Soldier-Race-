{
 "cells": [
  {
   "cell_type": "markdown",
   "id": "b9163dde-2328-42b1-9b21-3542ff494c94",
   "metadata": {
    "tags": []
   },
   "source": [
    "#### 1 Kullanilacak metrik   Her model sonunda uygula "
   ]
  },
  {
   "cell_type": "code",
   "execution_count": null,
   "id": "a6967bb1-b5a1-4466-9705-b218573a6874",
   "metadata": {},
   "outputs": [],
   "source": [
    "y_pred = rf_model.predict(X_test)\n",
    "rf_f1 = f1_score(y_test, y_pred)\n",
    "rf_recall = recall_score(y_test, y_pred)\n",
    "rf_auc = roc_auc_score(y_test, y_pred)\n",
    "eval_metric(rf_model, X_train, y_train, X_test, y_test)"
   ]
  },
  {
   "cell_type": "markdown",
   "id": "9c4ee5ca-f3d7-49ff-9e5d-d8e93736b2c2",
   "metadata": {
    "tags": []
   },
   "source": [
    "#### 2 RF XGBOOST trainde 1 cikmasi normal cunku butun sonuclari bulana kadar devam ediyor eger elinde yeterli veri varsa"
   ]
  },
  {
   "cell_type": "markdown",
   "id": "02339882-60e3-4a0f-adaa-bb8ca1dcd132",
   "metadata": {},
   "source": [
    "Grid search de make scorer yapip dusuk tahmin degerlerini arttirmaya yonelik calisma yapabiliriz"
   ]
  },
  {
   "cell_type": "code",
   "execution_count": null,
   "id": "7c5cb996-efba-49c1-b965-1768384e7ce8",
   "metadata": {},
   "outputs": [],
   "source": []
  },
  {
   "cell_type": "code",
   "execution_count": null,
   "id": "1ccc1603-665d-41f5-b5fe-46446cf67ad2",
   "metadata": {},
   "outputs": [],
   "source": []
  },
  {
   "cell_type": "markdown",
   "id": "325cec01-2ffa-4c4b-9d4b-c1c1d6975932",
   "metadata": {
    "tags": []
   },
   "source": [
    "#### 3 SVM LOG RES icin scale gerekli ama RF ve XGBoost icin gerekli degil"
   ]
  },
  {
   "cell_type": "markdown",
   "id": "e5815c3c-78ad-4285-a42a-5ce83a2d713e",
   "metadata": {},
   "source": [
    "#### 4 XGBoost sadece 0,1,2 gibi encoded target klaslariyla calisir."
   ]
  },
  {
   "cell_type": "markdown",
   "id": "dd3d6044-c767-4d1c-a701-f8001b194123",
   "metadata": {},
   "source": [
    "#### 5 Feauture sayisi cok fazla ama ilk bes feature icin feature importance yapilabilir"
   ]
  },
  {
   "cell_type": "code",
   "execution_count": null,
   "id": "aad351a7-f68f-4c66-8b40-e2138de8d519",
   "metadata": {},
   "outputs": [],
   "source": [
    "model.feature_importances_\n",
    "feats = pd.DataFrame(index=X.columns, data=model.feature_importances_, columns=['grad_importance'])\n",
    "grad_imp_feats = feats.sort_values(\"grad_importance\")\n",
    "grad_imp_feats\n",
    "\n",
    "plt.figure(figsize=(12,6))\n",
    "sns.barplot(data=grad_imp_feats, x=grad_imp_feats.index, y='grad_importance')\n",
    "\n",
    "plt.xticks(rotation=90);"
   ]
  },
  {
   "cell_type": "markdown",
   "id": "50fb9e43-a83c-4d46-899e-26f9c58b5d9d",
   "metadata": {},
   "source": [
    "#### 6 Final Model"
   ]
  },
  {
   "cell_type": "markdown",
   "id": "a7b68212-a24d-4ed7-8571-c45d01f39705",
   "metadata": {},
   "source": [
    "Final model belirlendikten sonra veri setimizden bir satir secip ona yakin degerler verip tahmin ettirebiliriz\n",
    "Boylece modeli basit de olsa bir teste tabi tutulmus olur\n"
   ]
  },
  {
   "cell_type": "markdown",
   "id": "079ee8c2-67a9-4b3d-b956-ed5719a3e01d",
   "metadata": {},
   "source": [
    "#### 7 Smote (over-under sampling)"
   ]
  },
  {
   "cell_type": "markdown",
   "id": "30b8aa52-6e92-4b4f-b15e-39e8ed0e15d7",
   "metadata": {},
   "source": [
    "Sadece train datasinda yapilir"
   ]
  },
  {
   "cell_type": "markdown",
   "id": "e6c445e9-a256-4ab0-bf88-2d0c5248b055",
   "metadata": {},
   "source": [
    "Over sampling yaparken cok fazla yapay veri overfitting problemine sebep olabilir\n",
    "Bunun onlenmesi icin over sampling undersampling le birlikte kullanilabilir.Boylece dengeli bir veri seti olusturulabilir"
   ]
  },
  {
   "cell_type": "code",
   "execution_count": null,
   "id": "31ab31f3-991a-4d70-b935-06d80773d86f",
   "metadata": {},
   "outputs": [],
   "source": []
  },
  {
   "cell_type": "code",
   "execution_count": null,
   "id": "22f57bef-8deb-4f22-8e3d-8a111fcbef68",
   "metadata": {},
   "outputs": [],
   "source": []
  },
  {
   "cell_type": "code",
   "execution_count": null,
   "id": "7cc80cf3-6a59-4d3a-9760-d6ca5e54e02c",
   "metadata": {},
   "outputs": [],
   "source": []
  },
  {
   "cell_type": "code",
   "execution_count": null,
   "id": "01a10992-da61-4ba8-98b2-f4a0ee5f9668",
   "metadata": {},
   "outputs": [],
   "source": []
  },
  {
   "cell_type": "code",
   "execution_count": null,
   "id": "68f7e1c6-1f53-4a7e-acf0-910e3eb38aee",
   "metadata": {},
   "outputs": [],
   "source": []
  }
 ],
 "metadata": {
  "kernelspec": {
   "display_name": "Python 3 (ipykernel)",
   "language": "python",
   "name": "python3"
  },
  "language_info": {
   "codemirror_mode": {
    "name": "ipython",
    "version": 3
   },
   "file_extension": ".py",
   "mimetype": "text/x-python",
   "name": "python",
   "nbconvert_exporter": "python",
   "pygments_lexer": "ipython3",
   "version": "3.11.3"
  }
 },
 "nbformat": 4,
 "nbformat_minor": 5
}
